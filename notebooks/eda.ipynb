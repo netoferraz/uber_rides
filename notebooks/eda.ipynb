{
 "cells": [
  {
   "cell_type": "code",
   "execution_count": 1,
   "metadata": {},
   "outputs": [],
   "source": [
    "from uber_rides.session import Session, OAuth2Credential\n",
    "from uber_rides.client import UberRidesClient"
   ]
  },
  {
   "cell_type": "code",
   "execution_count": 2,
   "metadata": {},
   "outputs": [],
   "source": [
    "from configparser import ConfigParser\n",
    "config = ConfigParser()\n",
    "config.read(\"../config.ini\");"
   ]
  },
  {
   "cell_type": "code",
   "execution_count": 3,
   "metadata": {},
   "outputs": [],
   "source": [
    "PRODUCT_NAME = 'UberX'  # change this according to your city"
   ]
  },
  {
   "cell_type": "code",
   "execution_count": 4,
   "metadata": {},
   "outputs": [],
   "source": [
    "uber_auth = config['uber']"
   ]
  },
  {
   "cell_type": "code",
   "execution_count": 5,
   "metadata": {},
   "outputs": [],
   "source": [
    "client_secret = uber_auth.get('client_secret')\n",
    "client_id = uber_auth.get('client_id')\n",
    "token = uber_auth.get('token')"
   ]
  },
  {
   "cell_type": "code",
   "execution_count": 19,
   "metadata": {},
   "outputs": [],
   "source": [
    "CSV_HEADERS = [\n",
    "    'date',\n",
    "    'start_place',\n",
    "    'start_latitude',\n",
    "    'end_longitude',\n",
    "    'end_place',\n",
    "    'end_latitude',\n",
    "    'end_longitude',\n",
    "    'distance_estimation',\n",
    "    'duration_estimation',\n",
    "    'price',\n",
    "]"
   ]
  },
  {
   "cell_type": "code",
   "execution_count": 6,
   "metadata": {},
   "outputs": [],
   "source": [
    "def authenticate():\n",
    "    credentials = {\n",
    "        'access_token': token,\n",
    "        'client_id': client_id,\n",
    "        'client_secret': client_secret,\n",
    "        'expires_in_seconds': 2592000,  # Uber's default value\n",
    "        'grant_type': 'authorization_code',\n",
    "        'scopes': None\n",
    "    }\n",
    "    oauth2_credential = OAuth2Credential(**credentials)\n",
    "    session = Session(oauth2credential=oauth2_credential)\n",
    "    client = UberRidesClient(session)\n",
    "    return client"
   ]
  },
  {
   "cell_type": "code",
   "execution_count": 7,
   "metadata": {},
   "outputs": [],
   "source": [
    "def get_product_id(client, product_name):\n",
    "    response = client.get_products(\n",
    "        START_GEOCODE_LATITUDE,\n",
    "        START_GEOCODE_LONGITUDE,\n",
    "    )\n",
    "    products = response.json.get('products')\n",
    "\n",
    "    for product in products:\n",
    "        if product['display_name'] == product_name:\n",
    "            product_id = product['product_id']\n",
    "            return product_id"
   ]
  },
  {
   "cell_type": "code",
   "execution_count": 11,
   "metadata": {},
   "outputs": [],
   "source": [
    "START_GEOCODE_LATITUDE = -15.837057\n",
    "START_GEOCODE_LONGITUDE = -48.035285"
   ]
  },
  {
   "cell_type": "code",
   "execution_count": 8,
   "metadata": {},
   "outputs": [
    {
     "name": "stdout",
     "output_type": "stream",
     "text": [
      "Starting script...\n"
     ]
    }
   ],
   "source": [
    "print('Starting script...')\n",
    "client = authenticate()"
   ]
  },
  {
   "cell_type": "code",
   "execution_count": 12,
   "metadata": {},
   "outputs": [],
   "source": [
    "product_id = get_product_id(client, PRODUCT_NAME)"
   ]
  },
  {
   "cell_type": "code",
   "execution_count": 13,
   "metadata": {},
   "outputs": [],
   "source": [
    "# extract\n",
    "estimated_ride = client.estimate_ride(\n",
    "    product_id=product_id,\n",
    "    start_latitude=START_GEOCODE_LATITUDE,\n",
    "    start_longitude=START_GEOCODE_LONGITUDE,\n",
    "    end_latitude=-15.799018,\n",
    "    end_longitude=-47.860758,\n",
    ").json"
   ]
  },
  {
   "cell_type": "code",
   "execution_count": 14,
   "metadata": {},
   "outputs": [
    {
     "data": {
      "text/plain": [
       "{'fare': {'breakdown': [{'type': 'base_fare',\n",
       "    'name': 'Base Fare',\n",
       "    'value': 37.55}],\n",
       "  'value': 37.55,\n",
       "  'fare_id': '3858215b4db0a3a1d0a9fb53c6a8b7e813333b6201bd113614b250eede2e9737',\n",
       "  'expires_at': 1558753554,\n",
       "  'display': 'R$37.55',\n",
       "  'currency_code': 'BRL'},\n",
       " 'trip': {'distance_unit': 'mile',\n",
       "  'duration_estimate': 1560,\n",
       "  'distance_estimate': 14.33},\n",
       " 'pickup_estimate': 2}"
      ]
     },
     "execution_count": 14,
     "metadata": {},
     "output_type": "execute_result"
    }
   ],
   "source": [
    "estimated_ride"
   ]
  },
  {
   "cell_type": "code",
   "execution_count": 59,
   "metadata": {},
   "outputs": [
    {
     "data": {
      "text/plain": [
       "'1f432c41-8bbe-4f40-a3f5-2383fba01b70'"
      ]
     },
     "execution_count": 59,
     "metadata": {},
     "output_type": "execute_result"
    }
   ],
   "source": [
    "product_id"
   ]
  },
  {
   "cell_type": "code",
   "execution_count": 47,
   "metadata": {},
   "outputs": [
    {
     "name": "stdout",
     "output_type": "stream",
     "text": [
      "uberx\n",
      "uberx\n",
      "uberblack\n",
      "uberx\n"
     ]
    }
   ],
   "source": [
    "for product in response.json['products']:\n",
    "    print(product.get('product_group'))"
   ]
  },
  {
   "cell_type": "code",
   "execution_count": 51,
   "metadata": {},
   "outputs": [
    {
     "name": "stdout",
     "output_type": "stream",
     "text": [
      "UberX\n",
      "Select\n",
      "Black\n",
      "Bag\n"
     ]
    }
   ],
   "source": [
    "for product in response.json['products']:\n",
    "    print(product['display_name'])"
   ]
  },
  {
   "cell_type": "code",
   "execution_count": 16,
   "metadata": {},
   "outputs": [],
   "source": [
    "response = client.get_products(\n",
    "        START_GEOCODE_LATITUDE,\n",
    "        START_GEOCODE_LONGITUDE,\n",
    "    )"
   ]
  },
  {
   "cell_type": "code",
   "execution_count": 17,
   "metadata": {},
   "outputs": [
    {
     "name": "stdout",
     "output_type": "stream",
     "text": [
      "{'capacity': 4,\n",
      " 'cash_enabled': False,\n",
      " 'description': 'THE LOW-COST UBER',\n",
      " 'display_name': 'UberX',\n",
      " 'image': 'https://d1a3f4spazzrp4.cloudfront.net/car-types/mono/mono-uberx.png',\n",
      " 'price_details': {'base': 2.7,\n",
      "                   'cancellation_fee': 6.0,\n",
      "                   'cost_per_distance': 1.25,\n",
      "                   'cost_per_minute': 0.18,\n",
      "                   'currency_code': 'BRL',\n",
      "                   'distance_unit': 'km',\n",
      "                   'minimum': 7.0,\n",
      "                   'service_fees': [{'fee': 1.0, 'name': 'Booking fee'}]},\n",
      " 'product_group': 'uberx',\n",
      " 'product_id': '1f432c41-8bbe-4f40-a3f5-2383fba01b70',\n",
      " 'shared': False,\n",
      " 'short_description': 'UberX',\n",
      " 'upfront_fare_enabled': True}\n",
      "{'capacity': 4,\n",
      " 'cash_enabled': False,\n",
      " 'description': 'A Step Above The Everyday',\n",
      " 'display_name': 'Select',\n",
      " 'image': 'https://d1a3f4spazzrp4.cloudfront.net/car-types/mono/mono-uberx.png',\n",
      " 'price_details': {'base': 3.2,\n",
      "                   'cancellation_fee': 7.0,\n",
      "                   'cost_per_distance': 1.5,\n",
      "                   'cost_per_minute': 0.22,\n",
      "                   'currency_code': 'BRL',\n",
      "                   'distance_unit': 'km',\n",
      "                   'minimum': 8.0,\n",
      "                   'service_fees': [{'fee': 1.0, 'name': 'Booking fee'}]},\n",
      " 'product_group': 'uberx',\n",
      " 'product_id': 'a111171f-ea2f-40b4-a334-3914be14a7f8',\n",
      " 'shared': False,\n",
      " 'short_description': 'Select',\n",
      " 'upfront_fare_enabled': True}\n",
      "{'capacity': 4,\n",
      " 'cash_enabled': False,\n",
      " 'description': 'The original Uber.',\n",
      " 'display_name': 'Black',\n",
      " 'image': 'https://d1a3f4spazzrp4.cloudfront.net/car-types/mono/mono-black.png',\n",
      " 'price_details': {'base': 4.0,\n",
      "                   'cancellation_fee': 7.0,\n",
      "                   'cost_per_distance': 2.2,\n",
      "                   'cost_per_minute': 0.32,\n",
      "                   'currency_code': 'BRL',\n",
      "                   'distance_unit': 'km',\n",
      "                   'minimum': 8.0,\n",
      "                   'service_fees': [{'fee': 1.0, 'name': 'Booking fee'}]},\n",
      " 'product_group': 'uberblack',\n",
      " 'product_id': '3f3daa7e-1713-4d9f-b3c2-d3d16806c685',\n",
      " 'shared': False,\n",
      " 'short_description': 'Black',\n",
      " 'upfront_fare_enabled': True}\n",
      "{'capacity': 4,\n",
      " 'cash_enabled': False,\n",
      " 'description': 'Affordable rides with larger trunks',\n",
      " 'display_name': 'Bag',\n",
      " 'image': 'https://d1a3f4spazzrp4.cloudfront.net/car-types/mono/mono-uberxl-2.png',\n",
      " 'price_details': {'base': 3.2,\n",
      "                   'cancellation_fee': 7.0,\n",
      "                   'cost_per_distance': 1.5,\n",
      "                   'cost_per_minute': 0.22,\n",
      "                   'currency_code': 'BRL',\n",
      "                   'distance_unit': 'km',\n",
      "                   'minimum': 8.0,\n",
      "                   'service_fees': [{'fee': 1.0, 'name': 'Booking fee'}]},\n",
      " 'product_group': 'uberx',\n",
      " 'product_id': '4ad63cb2-3c2c-471f-a859-d4eab7dee297',\n",
      " 'shared': False,\n",
      " 'short_description': 'Bag',\n",
      " 'upfront_fare_enabled': True}\n"
     ]
    }
   ],
   "source": [
    "from pprint import pprint\n",
    "for product in response.json['products']:\n",
    "    pprint(product)"
   ]
  }
 ],
 "metadata": {
  "kernelspec": {
   "display_name": "Python 3",
   "language": "python",
   "name": "python3"
  },
  "language_info": {
   "codemirror_mode": {
    "name": "ipython",
    "version": 3
   },
   "file_extension": ".py",
   "mimetype": "text/x-python",
   "name": "python",
   "nbconvert_exporter": "python",
   "pygments_lexer": "ipython3",
   "version": "3.7.1"
  }
 },
 "nbformat": 4,
 "nbformat_minor": 2
}
